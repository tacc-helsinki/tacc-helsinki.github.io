{
 "cells": [
  {
   "cell_type": "code",
   "execution_count": 27,
   "metadata": {
    "collapsed": false
   },
   "outputs": [],
   "source": [
    "from autobib import get_bibtex_entry\n",
    "from bibtexparser.bwriter import BibTexWriter\n",
    "from bibtexparser.bibdatabase import BibDatabase\n",
    "import feedparser"
   ]
  },
  {
   "cell_type": "code",
   "execution_count": 4,
   "metadata": {
    "collapsed": true
   },
   "outputs": [],
   "source": [
    "a = get_bibtex_entry(\"10.1039/C6CP03808E\")"
   ]
  },
  {
   "cell_type": "code",
   "execution_count": 16,
   "metadata": {
    "collapsed": false
   },
   "outputs": [],
   "source": [
    "db = BibDatabase()\n",
    "db.entries = [a]\n"
   ]
  },
  {
   "cell_type": "code",
   "execution_count": 18,
   "metadata": {
    "collapsed": false
   },
   "outputs": [
    {
     "data": {
      "text/plain": [
       "[{'ENTRYTYPE': 'article',\n",
       "  'ID': 'gdk3pc',\n",
       "  'author': 'M. Rauhalahti and A. Mu{\\\\~{n}}oz-Castro and D. Sundholm',\n",
       "  'doi': '10.1039/c6cp03808e',\n",
       "  'journal': 'Physical Chemistry Chemical Physics',\n",
       "  'link': 'https://doi.org/10.1039/C6CP03808E',\n",
       "  'number': '28',\n",
       "  'pages': '18880--18886',\n",
       "  'publisher': 'Royal Society of Chemistry ({RSC})',\n",
       "  'title': 'Magnetic response properties of gaudiene {\\\\textendash} a cavernous and aromatic carbocage',\n",
       "  'url': 'https://doi.org/10.1039%2Fc6cp03808e',\n",
       "  'volume': '18',\n",
       "  'year': '2016'}]"
      ]
     },
     "execution_count": 18,
     "metadata": {},
     "output_type": "execute_result"
    }
   ],
   "source": [
    "db.entries"
   ]
  },
  {
   "cell_type": "code",
   "execution_count": 23,
   "metadata": {
    "collapsed": false
   },
   "outputs": [],
   "source": [
    "jee = bibtexparser.dumps(db, BibTexWriter())"
   ]
  },
  {
   "cell_type": "code",
   "execution_count": 47,
   "metadata": {
    "collapsed": true
   },
   "outputs": [],
   "source": [
    "from bs4 import BeautifulSoup"
   ]
  },
  {
   "cell_type": "code",
   "execution_count": 144,
   "metadata": {
    "collapsed": false
   },
   "outputs": [],
   "source": [
    "def tuhat2doilist(url_of_rss_base):\n",
    "    doilist = []\n",
    "    def rss2doilist(rss):\n",
    "        entries = rss.entries\n",
    "        if len(entries) == 0:\n",
    "            # If the RSS feed of a given page does not contain any entries, terminate\n",
    "            return False\n",
    "        doilist = []\n",
    "        for entry in entries:\n",
    "            # A very ugly way to get the doi from a html.\n",
    "            html = entry['summary']\n",
    "            parsed_html = BeautifulSoup(html)\n",
    "            tds = [str(el) for el in parsed_html.find_all('td')]  \n",
    "            try:\n",
    "                doi_td = [td.split() for td in tds if 'doi' in td][0]\n",
    "            except:\n",
    "                continue\n",
    "            doi =  ['/'.join(i.replace('\"', '').split(\"/\")[-2:]) for i in doi_td if i.startswith('href')][0]\n",
    "            doilist.append(doi)\n",
    "        return doilist\n",
    "    page = 0\n",
    "    while True:\n",
    "        rss = feedparser.parse(url_of_rss_base + str(page))\n",
    "        result = rss2doilist(rss) # Either False if all pages have been crawled, otherwise a list of DOIs\n",
    "        if result == False:\n",
    "            break\n",
    "        else:\n",
    "            doilist += result\n",
    "        page +=1\n",
    "    return doilist\n",
    "    \n",
    "    "
   ]
  },
  {
   "cell_type": "code",
   "execution_count": 145,
   "metadata": {
    "collapsed": false
   },
   "outputs": [],
   "source": [
    "base_rss = \"https://tuhat.helsinki.fi/portal/fi/persons/dage-sundholm(0d4f606d-d7cf-459d-89cb-3208e73f9a82)/publications.rss?pageSize=all&page=\"\n",
    "\n"
   ]
  },
  {
   "cell_type": "code",
   "execution_count": 146,
   "metadata": {
    "collapsed": false
   },
   "outputs": [
    {
     "name": "stderr",
     "output_type": "stream",
     "text": [
      "/home/markus/anaconda3/lib/python3.6/site-packages/bs4/__init__.py:181: UserWarning: No parser was explicitly specified, so I'm using the best available HTML parser for this system (\"lxml\"). This usually isn't a problem, but if you run this code on another system, or in a different virtual environment, it may use a different parser and behave differently.\n",
      "\n",
      "The code that caused this warning is on line 193 of the file /home/markus/anaconda3/lib/python3.6/runpy.py. To get rid of this warning, change code that looks like this:\n",
      "\n",
      " BeautifulSoup([your markup])\n",
      "\n",
      "to this:\n",
      "\n",
      " BeautifulSoup([your markup], \"lxml\")\n",
      "\n",
      "  markup_type=markup_type))\n"
     ]
    }
   ],
   "source": [
    "dagedoi = tuhat2doilist(base_rss)"
   ]
  },
  {
   "cell_type": "code",
   "execution_count": 147,
   "metadata": {
    "collapsed": false
   },
   "outputs": [
    {
     "data": {
      "text/plain": [
       "['10.1016/j.cpc.2018.05.016',\n",
       " '10.1021/acs.jpca.8b02311',\n",
       " '10.1039/c7cp08703a',\n",
       " '10.1021/acs.jpclett.8b00440',\n",
       " '10.1021/acs.inorgchem.7b02593',\n",
       " '10.1039/c7cp07212k',\n",
       " '10.1103/PhysRevA.96.042717',\n",
       " '10.1021/acs.jpca.7b07607',\n",
       " '10.1039/c7cp05460b',\n",
       " '10.1039/c7ra08648b',\n",
       " '10.1039/c7cc05232d',\n",
       " '10.1039/C7CP02964K',\n",
       " '10.1039/c7qi00023e',\n",
       " '10.1073/pnas.1703625114',\n",
       " '10.1039/c7cp00624a',\n",
       " '10.1021/acs.jctc.6b01250',\n",
       " '10.1038/srep46617',\n",
       " '10.1039/c7cp00194k',\n",
       " '10.1021/acs.jctc.6b01207',\n",
       " '10.1063/1.4976557',\n",
       " '10.1039/c5cp90198g',\n",
       " '10.1002/wcms.1270',\n",
       " '10.1021/acs.jctc.6b00720',\n",
       " '10.1039/c6cp04627d',\n",
       " '10.1021/acs.jpca.6b03950',\n",
       " '10.1039/c6cp03808e',\n",
       " '10.1002/chem.201505126',\n",
       " '10.1021/acs.jctc.6b00237',\n",
       " '10.1039/c6cp01968d',\n",
       " '10.1039/c5cp06987d',\n",
       " '10.1039/c6cp00365f',\n",
       " '10.1039/c5ra27683g',\n",
       " '10.1002/cplu.201500337',\n",
       " '10.1002/jccs.201500368',\n",
       " '10.1002/jccs.201500027',\n",
       " '10.1039/c5cp01173f',\n",
       " '10.1002/anie.201501609',\n",
       " '10.1039/c5nr04370k',\n",
       " '10.1021/jp509824z',\n",
       " '10.1021/ct501128u',\n",
       " '10.1039/c5cp01306b',\n",
       " '10.1021/jp5067549',\n",
       " '10.1021/jp5120652',\n",
       " '10.1021/jp5120898',\n",
       " '10.1039/c3cp55080j',\n",
       " '10.1021/jp5078906',\n",
       " '10.1021/jo5019427',\n",
       " '10.1002/er.3252',\n",
       " '10.1039/C4CP02894E',\n",
       " '10.1016/j.jorganchem.2014.03.001',\n",
       " '10.1002/cplu.201300314',\n",
       " '10.1063/1.4883676',\n",
       " '10.1039/c4cp00883a',\n",
       " '10.1016/j.bbabio.2009.01.002',\n",
       " '10.1021/jo900736d',\n",
       " '10.1039/c3cp54421d',\n",
       " '10.1021/ja411864m',\n",
       " '10.1021/jp404828n',\n",
       " '10.1080/00268976.2013.793847',\n",
       " '10.1021/jp408747d',\n",
       " '10.1007/s00775-013-1039-8',\n",
       " '10.1007/s00894-012-1400-9',\n",
       " '10.1080/00268976.2013.794397',\n",
       " '10.1039/c3cp51042e',\n",
       " '10.1002/qua.24310',\n",
       " '10.1039/c3cp00058c',\n",
       " '10.1007/978-1-62703-017-5_1',\n",
       " '10.1039/c1cp21935a',\n",
       " '10.1021/jp308121b',\n",
       " '10.1021/jp302010a',\n",
       " '10.1039/C2PC90004A',\n",
       " '10.1080/00268976.2012.720725',\n",
       " '10.1039/c2cp40468k',\n",
       " '10.1021/ic202416d',\n",
       " '10.1063/1.4721386',\n",
       " '10.1021/jp302124v',\n",
       " '10.1039/B000260G',\n",
       " '10.1021/ja9942540',\n",
       " '10.1021/jo0004299',\n",
       " '10.1021/ic0007660',\n",
       " '10.1021/jp012346h',\n",
       " '10.1080/00268970110103138',\n",
       " '10.1103/PhysRevB.67.045313',\n",
       " '10.1103/PhysRevB.67.085314',\n",
       " '10.1021/nl034189z',\n",
       " '10.1016/S1386-9477(03)00146-2',\n",
       " '10.1016/S0166-1280(03)00267-7',\n",
       " '10.1039/b306301a',\n",
       " '10.1007/s00214-003-0465-z',\n",
       " '10.1039/b310395a',\n",
       " '10.1039/b403032j',\n",
       " '14/007',\n",
       " '10.1063/1.1773136',\n",
       " '10.1016/S0065-3276(05)50011-X',\n",
       " '10.1021/jo300182b',\n",
       " '10.1021/jp205918m',\n",
       " '10.1021/ct200215d',\n",
       " '10.1063/1.3596729',\n",
       " '10.1016/j.bbabio.2010.12.016',\n",
       " '10.1007/s00214-011-0948-2',\n",
       " '10.1016/j.cplett.2011.01.037',\n",
       " '10.1039/c1cp21812c',\n",
       " '10.1007/s00214-011-0946-4',\n",
       " '10.1002/qua.22869',\n",
       " '10.1063/1.3549567',\n",
       " '10.1073/pnas.1005889107',\n",
       " '10.1103/PhysRevB.82.085306',\n",
       " '10.1002/anie.200453986',\n",
       " '10.1063/1.1640343',\n",
       " '10.1021/ja026523j',\n",
       " '10.1016/S0005-2728(02)00182-2',\n",
       " '10.1039/C0CP00622J',\n",
       " '10.1021/jp1021517',\n",
       " '10.1103/PhysRevB.74.045433',\n",
       " '10.1063/1.2354496',\n",
       " '10.1021/jo100902w',\n",
       " '10.1021/jp065510f',\n",
       " '10.1021/ct900240s',\n",
       " '10.1063/1.3291027',\n",
       " '10.1039/b922175a',\n",
       " '10.1021/jp9813589',\n",
       " '10.1021/jp9029776',\n",
       " '10.1063/1.3158990',\n",
       " '10.1007/s00894-008-0284-1',\n",
       " '10.1039/b808082h',\n",
       " '10.1039/b811032h',\n",
       " '10.1021/jp808076f',\n",
       " '10.1021/jp805086q',\n",
       " '10.1039/b804212h',\n",
       " '10.1021/jp0739081',\n",
       " '10.1021/jp0703511',\n",
       " '10.1039/b616137e',\n",
       " '10.1063/1.2436880',\n",
       " '10.1103/PhysRevA.75.023621',\n",
       " '10.1002/pssb.200642169',\n",
       " '10.1039/b606643g',\n",
       " '10.1021/ct050297x',\n",
       " '10.1021/jp056789n',\n",
       " '10.1103/PhysRevB.72.085424',\n",
       " '10.1021/jp045126n',\n",
       " '10.1002/anie.200462348',\n",
       " '10.1063/1.1898206',\n",
       " '10.1002/chem.200400916']"
      ]
     },
     "execution_count": 147,
     "metadata": {},
     "output_type": "execute_result"
    }
   ],
   "source": [
    "dagedoi"
   ]
  },
  {
   "cell_type": "code",
   "execution_count": null,
   "metadata": {
    "collapsed": true
   },
   "outputs": [],
   "source": []
  },
  {
   "cell_type": "code",
   "execution_count": null,
   "metadata": {
    "collapsed": true
   },
   "outputs": [],
   "source": []
  }
 ],
 "metadata": {
  "kernelspec": {
   "display_name": "Python 3",
   "language": "python",
   "name": "python3"
  },
  "language_info": {
   "codemirror_mode": {
    "name": "ipython",
    "version": 3
   },
   "file_extension": ".py",
   "mimetype": "text/x-python",
   "name": "python",
   "nbconvert_exporter": "python",
   "pygments_lexer": "ipython3",
   "version": "3.6.0"
  }
 },
 "nbformat": 4,
 "nbformat_minor": 2
}
